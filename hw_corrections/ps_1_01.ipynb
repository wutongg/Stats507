{
 "cells": [
  {
   "cell_type": "markdown",
   "id": "818f71bf",
   "metadata": {},
   "source": [
    "# Problem Set 1\n",
    "**Tong Wu**  \n",
    "*September 17, 2021*"
   ]
  },
  {
   "cell_type": "markdown",
   "id": "6207c3eb",
   "metadata": {},
   "source": [
    "## Question 0 - Markdown warmup"
   ]
  },
  {
   "cell_type": "markdown",
   "id": "c951833d",
   "metadata": {},
   "source": [
    "***\n",
    "This is *quesiton o* for [problem set 1][ps] of [Stats 507][st].  \n",
    "\n",
    ">Question o is about Markdown.\n",
    "\n",
    "The next question is about the **Fibonacci Sequence**, $F_{n}=F_{n-2}+\n",
    "F_{n-1}$. In part **a** we will define a Python function `fib_rec()`.  \n",
    "\n",
    "Below is a...\n",
    "\n",
    "### Level 3 Header\n",
    "Next, we can make a bulleted list:\n",
    "- Item 1\n",
    "  + detail 1\n",
    "  + detail 2\n",
    "- Item 2  \n",
    "\n",
    "Finally, we can make an enumerated list:  \n",
    "1. Item 1  \n",
    "2. Item 2  \n",
    "3. Item 3  \n",
    "\n",
    "[ps]: https://jbhender.github.io/Stats507/F21/ps/ps1.html\n",
    "[st]: https://jbhender.github.io/Stats507/F21/\n",
    "***"
   ]
  },
  {
   "cell_type": "code",
   "execution_count": null,
   "id": "c3e433d2",
   "metadata": {
    "lines_to_next_cell": 1
   },
   "outputs": [
    {
     "name": "stdout",
     "output_type": "stream",
     "text": [
      "Python 3.9.6 (default, Aug 18 2021, 12:38:10) \r\n",
      "[Clang 10.0.0 ] :: Anaconda, Inc. on darwin\r\n",
      "Type \"help\", \"copyright\", \"credits\" or \"license\" for more information.\r\n",
      ">>> "
     ]
    }
   ],
   "source": [
    "!/usr/bin/env python3\n",
    "# -*- coding: utf-8 -*-\n",
    "\"\"\"\n",
    "Problem set 1 - Question 0 and Question 1.\n",
    "\n",
    "@author: Tong Wu\n",
    "@date: September 10, 2021\n",
    "\"\"\"\n",
    "import math\n",
    "import numpy as np\n",
    "import pandas as pd\n",
    "import datetime"
   ]
  },
  {
   "cell_type": "markdown",
   "id": "a8806d63",
   "metadata": {},
   "source": [
    "## Question 1 - Display Fibonacci Sequence\n",
    "The Fibonacci sequence can be defined as follow:  \n",
    "<center>$F_{n} = F_{n-2} + F_{n-1}$, with $F_{0} = 0$ and $F_{1} = 1$.\n",
    "</center>"
   ]
  },
  {
   "cell_type": "markdown",
   "id": "1f52415f",
   "metadata": {},
   "source": [
    "**a. Write a function `fib_rec` using recursion.**  \n",
    "Note that a **recursive function** is a function that will continue to call \n",
    "itself until certain condition is met."
   ]
  },
  {
   "cell_type": "code",
   "execution_count": null,
   "id": "9be544f1",
   "metadata": {},
   "outputs": [],
   "source": [
    "def check_input(n):\n",
    "    \"\"\"\n",
    "    A function to check whether the input is an non-negative integer or not.\n",
    "\n",
    "    Parameters\n",
    "    ----------\n",
    "    n : int\n",
    "        The nth number of Fibonacci sequence which starts from 0..\n",
    "\n",
    "    Returns\n",
    "    -------\n",
    "    Raise exception if the input is invalid.\n",
    "\n",
    "    \"\"\"\n",
    "    if isinstance(n, int):\n",
    "        if n < 0:\n",
    "            raise Exception(\"Please enter a non-negative integer.\")\n",
    "    else:\n",
    "        raise Exception(\"Please enter a non-negative integer.\")"
   ]
  },
  {
   "cell_type": "code",
   "execution_count": null,
   "id": "c2f2c56d",
   "metadata": {},
   "outputs": [],
   "source": [
    "def fib_rec(n):\n",
    "    \"\"\"\n",
    "    A recursive function generating Fibonacci numbers.\n",
    "\n",
    "    Parameters\n",
    "    ----------\n",
    "    n : int\n",
    "        The nth number of Fibonacci sequence which starts from 0.\n",
    "\n",
    "    Returns\n",
    "    -------\n",
    "    The value of F_n.\n",
    "\n",
    "    \"\"\"\n",
    "    check_input(n)\n",
    "    if n <= 1:\n",
    "        return n\n",
    "    else:\n",
    "        return(fib_rec(n-2) + fib_rec(n-1))"
   ]
  },
  {
   "cell_type": "code",
   "execution_count": null,
   "id": "888070fd",
   "metadata": {},
   "outputs": [],
   "source": [
    "# **b. Write a function `fib_for` using a `for` loop.**\n",
    "def fib_for(n):\n",
    "    \"\"\"\n",
    "    A function generating Fibonacci numbers using for loop.\n",
    "\n",
    "    Parameters\n",
    "    ----------\n",
    "    n : int\n",
    "        The nth number of Fibonacci sequence which starts from 0.\n",
    "\n",
    "    Returns\n",
    "    -------\n",
    "    The value of F_n.\n",
    "\n",
    "    \"\"\"\n",
    "    a = 0\n",
    "    b = 1\n",
    "    \n",
    "    check_input(n)\n",
    "    if n == 0 or n == 1:\n",
    "        return n\n",
    "    else:\n",
    "        for x in range(1,n):\n",
    "            temp = a + b\n",
    "            a = b\n",
    "            b = temp\n",
    "        return temp"
   ]
  },
  {
   "cell_type": "code",
   "execution_count": null,
   "id": "ce7ca972",
   "metadata": {},
   "outputs": [],
   "source": [
    "# **c. Write a function `fib_whl` using a `while` loop.**\n",
    "def fib_whl(n):\n",
    "    \"\"\"\n",
    "    A function generating Fibonacci numbers using while loop.\n",
    "\n",
    "    Parameters\n",
    "    ----------\n",
    "    n : int\n",
    "        The nth number of Fibonacci sequence which starts from 0.\n",
    "\n",
    "    Returns\n",
    "    -------\n",
    "    The value of F_n.\n",
    "\n",
    "    \"\"\"\n",
    "    a = 0\n",
    "    b = 1\n",
    "    i = 1\n",
    "    \n",
    "    check_input(n)\n",
    "    if n == 0 or n == 1:\n",
    "        return n\n",
    "    else:\n",
    "        while i < n:\n",
    "            temp = a+b\n",
    "            a = b\n",
    "            b = temp\n",
    "            i += 1\n",
    "        return temp"
   ]
  },
  {
   "cell_type": "markdown",
   "id": "f63c3fac",
   "metadata": {},
   "source": [
    "**d. Write a function `fib_rnd` using rounding method.**    \n",
    "By using the [rounding method][rm], $F_{n}$ can be found as follows:\n",
    "<center>$F_{n}=\\left[\\frac{\\varphi^{n}}{\\sqrt{5}}\\right], n \\geq 0$, where\n",
    "$\\varphi=\\frac{1+\\sqrt{5}}{2} \\approx 1.6180339887 \\ldots$</center>\n",
    "\n",
    "[rm]: https://en.wikipedia.org/wiki/Fibonacci_number"
   ]
  },
  {
   "cell_type": "code",
   "execution_count": null,
   "id": "c531b1b6",
   "metadata": {},
   "outputs": [],
   "source": [
    "def fib_rnd(n):\n",
    "    \"\"\"\n",
    "    A function generating Fibonacci numbers using rounding method.\n",
    "\n",
    "    Parameters\n",
    "    ----------\n",
    "    n : int\n",
    "        The nth number of Fibonacci sequence which starts from 0.\n",
    "\n",
    "    Returns\n",
    "    -------\n",
    "    The nearest integer for the computation result using rounding \n",
    "    function, which is the value of F_n.\n",
    "\n",
    "    \"\"\"\n",
    "    check_input(n)\n",
    "    \n",
    "    phi = (1 + math.sqrt(5)) / 2\n",
    "    \n",
    "    return round(pow(phi, n) / math.sqrt(5))"
   ]
  },
  {
   "cell_type": "markdown",
   "id": "86bbd764",
   "metadata": {},
   "source": [
    "**e. Write a function `fib_flr` using truncation method.**  \n",
    "By using the [truncation method][tm], $F_{n}$ can be found in terms of the \n",
    "floor function: <center>$F_{n}=\\left\\lfloor\\frac{\\varphi^{n}}{\\sqrt{5}}+\n",
    "\\frac{1}{2}\\right\\rfloor, n \\geq 0$, where $\\varphi=\\frac{1+\\sqrt{5}}{2} \n",
    "\\approx 1.6180339887 \\ldots$</center>\n",
    "\n",
    "[tm]: https://en.wikipedia.org/wiki/Fibonacci_number"
   ]
  },
  {
   "cell_type": "code",
   "execution_count": null,
   "id": "ab24a323",
   "metadata": {},
   "outputs": [],
   "source": [
    "def fib_flr(n):\n",
    "    \"\"\"\n",
    "    A function generating Fibonacci numbers using truncation method.\n",
    "\n",
    "    Parameters\n",
    "    ----------\n",
    "    n : int\n",
    "        The nth number of Fibonacci sequence which starts from 0.\n",
    "\n",
    "    Returns\n",
    "    -------\n",
    "    The greatest integer less than or equal to the computation result \n",
    "    using truncation method, which is the value of F_n.\n",
    "\n",
    "    \"\"\"\n",
    "    check_input(n)\n",
    "    \n",
    "    phi = (1 + math.sqrt(5)) / 2\n",
    "    \n",
    "    return math.floor((pow(phi, n) / math.sqrt(5) + 1/2))"
   ]
  },
  {
   "cell_type": "markdown",
   "id": "01b26abb",
   "metadata": {},
   "source": [
    "**f. Compare the median computation time of each of the functions.**  \n",
    "- Use `np.linspace(start, stop, num)` to generate a sequence of evenly \n",
    "spaced increasingly large values of n.  \n",
    "  + Note that this generated sequence is an array of float, not integers.\n",
    "    Thus, we may need to convert its datatype if necessary.\n",
    "- After trying different ranges of ns, the range below is chosen. The\n",
    "maximal n we choose is 40, because a larger n consumes a lot of time when \n",
    "we use the recursive function."
   ]
  },
  {
   "cell_type": "code",
   "execution_count": null,
   "id": "a525d457",
   "metadata": {
    "lines_to_next_cell": 1
   },
   "outputs": [],
   "source": [
    "ns = np.linspace(10, 40, 7)"
   ]
  },
  {
   "cell_type": "code",
   "execution_count": null,
   "id": "13cceca2",
   "metadata": {},
   "outputs": [],
   "source": [
    "def run_time(n, fn):\n",
    "    \"\"\"\n",
    "    Computation time of a given function and a given n.\n",
    "    We use datetime module to measure the running time to microseconds. \n",
    "\n",
    "    Parameters\n",
    "    ----------\n",
    "    n : int\n",
    "        The nth number of Fibonacci sequence which starts from 0.\n",
    "    fn : function\n",
    "        This is the function used to generate Fibonacci Sequence.\n",
    "\n",
    "    Returns\n",
    "    -------\n",
    "    The computation time (in microseconds) of certain generating function.\n",
    "\n",
    "    \"\"\"  \n",
    "    t_begin = datetime.datetime.now()\n",
    "    fn(n)\n",
    "    t_end = datetime.datetime.now()\n",
    "    \n",
    "    return ((t_end - t_begin).seconds * 1e+6 + (t_end - t_begin).microseconds)"
   ]
  },
  {
   "cell_type": "code",
   "execution_count": null,
   "id": "0beeec67",
   "metadata": {
    "lines_to_next_cell": 1
   },
   "outputs": [],
   "source": [
    "def t_ktimes(k, fn):\n",
    "    \"\"\"\n",
    "    A function used to store computation time that a Fibonacci generating \n",
    "    function runs multiple times for each n.\n",
    "    \n",
    "    Parameters\n",
    "    ----------\n",
    "    k : int\n",
    "        The number of running times.\n",
    "    fn : function\n",
    "         The function used to generate Fibonacci Sequence.\n",
    "         \n",
    "    Returns\n",
    "    -------\n",
    "    A list to store computation time that a function runs multiple times.\n",
    "\n",
    "    \"\"\"\n",
    "    L = []\n",
    "    for n in ns:\n",
    "        L.append([])\n",
    "        for i in range(1, k+1):\n",
    "            t = run_time(int(n), fn)\n",
    "            L[ns.tolist().index(n)].append(t)\n",
    "    return L"
   ]
  },
  {
   "cell_type": "code",
   "execution_count": null,
   "id": "6bd68685",
   "metadata": {},
   "outputs": [],
   "source": [
    "def t_kmedian(fn, k = 5):\n",
    "    \"\"\"\n",
    "    \n",
    "\n",
    "    Parameters\n",
    "    ----------\n",
    "    k : TYPE\n",
    "        DESCRIPTION.\n",
    "    fn : TYPE\n",
    "        DESCRIPTION.\n",
    "\n",
    "    Returns\n",
    "    -------\n",
    "    None.\n",
    "\n",
    "    \"\"\"\n",
    "    L1 = t_ktimes(k, fn)\n",
    "    L2 = []\n",
    "    for i in range(len(L1)):\n",
    "        m = np.median(L1[i])\n",
    "        L2.append(m)\n",
    "    return L2  "
   ]
  },
  {
   "cell_type": "code",
   "execution_count": null,
   "id": "34ca3398",
   "metadata": {},
   "outputs": [],
   "source": [
    "# Construct a `pd.DataFrame` table that shows all medians using all methods \n",
    "# above for each n.\n",
    "# - Note that all medians are measured in microseconds.\n",
    "index_names = [('n = ' + str(int(n))) for n in ns] "
   ]
  },
  {
   "cell_type": "code",
   "execution_count": null,
   "id": "99e630a5",
   "metadata": {},
   "outputs": [],
   "source": [
    "ml = {\n",
    "      'Recursion': t_kmedian(fib_rec),\n",
    "      'For Loop': t_kmedian(fib_for),\n",
    "      'While Loop': t_kmedian(fib_whl),\n",
    "      'Rounding': t_kmedian(fib_rnd),\n",
    "      'Truncation': t_kmedian(fib_flr),\n",
    "    }"
   ]
  },
  {
   "cell_type": "code",
   "execution_count": null,
   "id": "dd296f90",
   "metadata": {},
   "outputs": [],
   "source": [
    "df = pd.DataFrame(ml, index = index_names)\n",
    "print(df)"
   ]
  },
  {
   "cell_type": "code",
   "execution_count": null,
   "id": "97799887",
   "metadata": {},
   "outputs": [],
   "source": []
  },
  {
   "cell_type": "code",
   "execution_count": null,
   "id": "85e4a794",
   "metadata": {
    "lines_to_next_cell": 2
   },
   "outputs": [],
   "source": []
  }
 ],
 "metadata": {
  "jupytext": {
   "formats": "ipynb,py:light",
   "text_representation": {
    "extension": ".py",
    "format_name": "light",
    "format_version": "1.5",
    "jupytext_version": "1.12.0"
   }
  },
  "kernelspec": {
   "display_name": "Python 3",
   "language": "python",
   "name": "python3"
  },
  "language_info": {
   "codemirror_mode": {
    "name": "ipython",
    "version": 3
   },
   "file_extension": ".py",
   "mimetype": "text/x-python",
   "name": "python",
   "nbconvert_exporter": "python",
   "pygments_lexer": "ipython3",
   "version": "3.8.8"
  },
  "toc": {
   "base_numbering": 1,
   "nav_menu": {},
   "number_sections": true,
   "sideBar": true,
   "skip_h1_title": false,
   "title_cell": "Table of Contents",
   "title_sidebar": "Contents",
   "toc_cell": false,
   "toc_position": {},
   "toc_section_display": true,
   "toc_window_display": false
  }
 },
 "nbformat": 4,
 "nbformat_minor": 5
}
